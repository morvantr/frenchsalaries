{
 "cells": [
  {
   "cell_type": "markdown",
   "metadata": {},
   "source": [
    "## Preprocessing data for French salaries DV Project "
   ]
  },
  {
   "cell_type": "markdown",
   "metadata": {},
   "source": [
    "### Import"
   ]
  },
  {
   "cell_type": "code",
   "execution_count": 2,
   "metadata": {
    "collapsed": true
   },
   "outputs": [],
   "source": [
    "import pandas as pd\n",
    "import numpy as np"
   ]
  },
  {
   "cell_type": "markdown",
   "metadata": {},
   "source": [
    "### Getting the data"
   ]
  },
  {
   "cell_type": "code",
   "execution_count": 3,
   "metadata": {
    "collapsed": true
   },
   "outputs": [],
   "source": [
    "salaries = pd.read_csv('salaries.csv', sep=';', low_memory=False, encoding = 'UTF-8')"
   ]
  },
  {
   "cell_type": "code",
   "execution_count": 4,
   "metadata": {},
   "outputs": [
    {
     "data": {
      "text/html": [
       "<div>\n",
       "<style>\n",
       "    .dataframe thead tr:only-child th {\n",
       "        text-align: right;\n",
       "    }\n",
       "\n",
       "    .dataframe thead th {\n",
       "        text-align: left;\n",
       "    }\n",
       "\n",
       "    .dataframe tbody tr th {\n",
       "        vertical-align: top;\n",
       "    }\n",
       "</style>\n",
       "<table border=\"1\" class=\"dataframe\">\n",
       "  <thead>\n",
       "    <tr style=\"text-align: right;\">\n",
       "      <th></th>\n",
       "      <th>CODGEO</th>\n",
       "      <th>LIBGEO</th>\n",
       "      <th>SNHM14</th>\n",
       "      <th>SNHMC14</th>\n",
       "      <th>SNHMP14</th>\n",
       "      <th>SNHME14</th>\n",
       "      <th>SNHMO14</th>\n",
       "      <th>SNHMF14</th>\n",
       "      <th>SNHMFC14</th>\n",
       "      <th>SNHMFP14</th>\n",
       "      <th>...</th>\n",
       "      <th>SNHMHO14</th>\n",
       "      <th>SNHM1814</th>\n",
       "      <th>SNHM2614</th>\n",
       "      <th>SNHM5014</th>\n",
       "      <th>SNHMF1814</th>\n",
       "      <th>SNHMF2614</th>\n",
       "      <th>SNHMF5014</th>\n",
       "      <th>SNHMH1814</th>\n",
       "      <th>SNHMH2614</th>\n",
       "      <th>SNHMH5014</th>\n",
       "    </tr>\n",
       "  </thead>\n",
       "  <tbody>\n",
       "    <tr>\n",
       "      <th>0</th>\n",
       "      <td>01004</td>\n",
       "      <td>Ambérieu-en-Bugey</td>\n",
       "      <td>13,7</td>\n",
       "      <td>24,2</td>\n",
       "      <td>15,5</td>\n",
       "      <td>10,3</td>\n",
       "      <td>11,2</td>\n",
       "      <td>11,6</td>\n",
       "      <td>19,1</td>\n",
       "      <td>13,2</td>\n",
       "      <td>...</td>\n",
       "      <td>11,6</td>\n",
       "      <td>10,5</td>\n",
       "      <td>13,7</td>\n",
       "      <td>16,1</td>\n",
       "      <td>9,7</td>\n",
       "      <td>11,8</td>\n",
       "      <td>12,5</td>\n",
       "      <td>11,0</td>\n",
       "      <td>14,9</td>\n",
       "      <td>18,6</td>\n",
       "    </tr>\n",
       "    <tr>\n",
       "      <th>1</th>\n",
       "      <td>01007</td>\n",
       "      <td>Ambronay</td>\n",
       "      <td>13,5</td>\n",
       "      <td>22,1</td>\n",
       "      <td>14,7</td>\n",
       "      <td>10,7</td>\n",
       "      <td>11,4</td>\n",
       "      <td>11,9</td>\n",
       "      <td>19,0</td>\n",
       "      <td>13,3</td>\n",
       "      <td>...</td>\n",
       "      <td>11,7</td>\n",
       "      <td>9,8</td>\n",
       "      <td>13,8</td>\n",
       "      <td>14,6</td>\n",
       "      <td>9,2</td>\n",
       "      <td>12,2</td>\n",
       "      <td>12,5</td>\n",
       "      <td>10,2</td>\n",
       "      <td>14,9</td>\n",
       "      <td>16,4</td>\n",
       "    </tr>\n",
       "    <tr>\n",
       "      <th>2</th>\n",
       "      <td>01014</td>\n",
       "      <td>Arbent</td>\n",
       "      <td>13,5</td>\n",
       "      <td>27,6</td>\n",
       "      <td>15,6</td>\n",
       "      <td>11,1</td>\n",
       "      <td>11,1</td>\n",
       "      <td>10,9</td>\n",
       "      <td>19,5</td>\n",
       "      <td>11,7</td>\n",
       "      <td>...</td>\n",
       "      <td>11,8</td>\n",
       "      <td>9,3</td>\n",
       "      <td>13,3</td>\n",
       "      <td>16,0</td>\n",
       "      <td>8,9</td>\n",
       "      <td>10,6</td>\n",
       "      <td>12,5</td>\n",
       "      <td>9,6</td>\n",
       "      <td>15,1</td>\n",
       "      <td>18,6</td>\n",
       "    </tr>\n",
       "    <tr>\n",
       "      <th>3</th>\n",
       "      <td>01024</td>\n",
       "      <td>Attignat</td>\n",
       "      <td>12,9</td>\n",
       "      <td>21,8</td>\n",
       "      <td>14,1</td>\n",
       "      <td>11,0</td>\n",
       "      <td>11,3</td>\n",
       "      <td>11,4</td>\n",
       "      <td>19,0</td>\n",
       "      <td>13,0</td>\n",
       "      <td>...</td>\n",
       "      <td>11,6</td>\n",
       "      <td>9,6</td>\n",
       "      <td>12,9</td>\n",
       "      <td>14,2</td>\n",
       "      <td>9,3</td>\n",
       "      <td>11,4</td>\n",
       "      <td>12,2</td>\n",
       "      <td>9,7</td>\n",
       "      <td>13,8</td>\n",
       "      <td>15,9</td>\n",
       "    </tr>\n",
       "    <tr>\n",
       "      <th>4</th>\n",
       "      <td>01025</td>\n",
       "      <td>Bâgé-la-Ville</td>\n",
       "      <td>13,0</td>\n",
       "      <td>22,8</td>\n",
       "      <td>14,1</td>\n",
       "      <td>10,5</td>\n",
       "      <td>11,1</td>\n",
       "      <td>11,6</td>\n",
       "      <td>19,4</td>\n",
       "      <td>13,6</td>\n",
       "      <td>...</td>\n",
       "      <td>11,4</td>\n",
       "      <td>9,4</td>\n",
       "      <td>12,8</td>\n",
       "      <td>15,2</td>\n",
       "      <td>9,0</td>\n",
       "      <td>11,8</td>\n",
       "      <td>12,3</td>\n",
       "      <td>9,7</td>\n",
       "      <td>13,4</td>\n",
       "      <td>16,9</td>\n",
       "    </tr>\n",
       "  </tbody>\n",
       "</table>\n",
       "<p>5 rows × 26 columns</p>\n",
       "</div>"
      ],
      "text/plain": [
       "  CODGEO             LIBGEO SNHM14 SNHMC14 SNHMP14 SNHME14 SNHMO14 SNHMF14  \\\n",
       "0  01004  Ambérieu-en-Bugey   13,7    24,2    15,5    10,3    11,2    11,6   \n",
       "1  01007           Ambronay   13,5    22,1    14,7    10,7    11,4    11,9   \n",
       "2  01014             Arbent   13,5    27,6    15,6    11,1    11,1    10,9   \n",
       "3  01024           Attignat   12,9    21,8    14,1    11,0    11,3    11,4   \n",
       "4  01025      Bâgé-la-Ville   13,0    22,8    14,1    10,5    11,1    11,6   \n",
       "\n",
       "  SNHMFC14 SNHMFP14    ...    SNHMHO14 SNHM1814 SNHM2614 SNHM5014 SNHMF1814  \\\n",
       "0     19,1     13,2    ...        11,6     10,5     13,7     16,1       9,7   \n",
       "1     19,0     13,3    ...        11,7      9,8     13,8     14,6       9,2   \n",
       "2     19,5     11,7    ...        11,8      9,3     13,3     16,0       8,9   \n",
       "3     19,0     13,0    ...        11,6      9,6     12,9     14,2       9,3   \n",
       "4     19,4     13,6    ...        11,4      9,4     12,8     15,2       9,0   \n",
       "\n",
       "  SNHMF2614 SNHMF5014 SNHMH1814 SNHMH2614 SNHMH5014  \n",
       "0      11,8      12,5      11,0      14,9      18,6  \n",
       "1      12,2      12,5      10,2      14,9      16,4  \n",
       "2      10,6      12,5       9,6      15,1      18,6  \n",
       "3      11,4      12,2       9,7      13,8      15,9  \n",
       "4      11,8      12,3       9,7      13,4      16,9  \n",
       "\n",
       "[5 rows x 26 columns]"
      ]
     },
     "execution_count": 4,
     "metadata": {},
     "output_type": "execute_result"
    }
   ],
   "source": [
    "salaries.head()"
   ]
  },
  {
   "cell_type": "code",
   "execution_count": 9,
   "metadata": {
    "collapsed": true
   },
   "outputs": [],
   "source": [
    "population = pd.read_csv('population.csv', sep=';', low_memory=False, encoding = 'UTF-8')"
   ]
  },
  {
   "cell_type": "code",
   "execution_count": 10,
   "metadata": {},
   "outputs": [
    {
     "data": {
      "text/html": [
       "<div>\n",
       "<style>\n",
       "    .dataframe thead tr:only-child th {\n",
       "        text-align: right;\n",
       "    }\n",
       "\n",
       "    .dataframe thead th {\n",
       "        text-align: left;\n",
       "    }\n",
       "\n",
       "    .dataframe tbody tr th {\n",
       "        vertical-align: top;\n",
       "    }\n",
       "</style>\n",
       "<table border=\"1\" class=\"dataframe\">\n",
       "  <thead>\n",
       "    <tr style=\"text-align: right;\">\n",
       "      <th></th>\n",
       "      <th>COM</th>\n",
       "      <th>LIBCOM</th>\n",
       "      <th>P14_POP</th>\n",
       "    </tr>\n",
       "  </thead>\n",
       "  <tbody>\n",
       "    <tr>\n",
       "      <th>0</th>\n",
       "      <td>01001</td>\n",
       "      <td>L'Abergement-Clémenciat</td>\n",
       "      <td>767</td>\n",
       "    </tr>\n",
       "    <tr>\n",
       "      <th>1</th>\n",
       "      <td>01002</td>\n",
       "      <td>L'Abergement-de-Varey</td>\n",
       "      <td>239</td>\n",
       "    </tr>\n",
       "    <tr>\n",
       "      <th>2</th>\n",
       "      <td>01004</td>\n",
       "      <td>Ambérieu-en-Bugey</td>\n",
       "      <td>1727</td>\n",
       "    </tr>\n",
       "    <tr>\n",
       "      <th>3</th>\n",
       "      <td>01004</td>\n",
       "      <td>Ambérieu-en-Bugey</td>\n",
       "      <td>3732</td>\n",
       "    </tr>\n",
       "    <tr>\n",
       "      <th>4</th>\n",
       "      <td>01004</td>\n",
       "      <td>Ambérieu-en-Bugey</td>\n",
       "      <td>3916</td>\n",
       "    </tr>\n",
       "  </tbody>\n",
       "</table>\n",
       "</div>"
      ],
      "text/plain": [
       "     COM                   LIBCOM  P14_POP\n",
       "0  01001  L'Abergement-Clémenciat      767\n",
       "1  01002    L'Abergement-de-Varey      239\n",
       "2  01004        Ambérieu-en-Bugey     1727\n",
       "3  01004        Ambérieu-en-Bugey     3732\n",
       "4  01004        Ambérieu-en-Bugey     3916"
      ]
     },
     "execution_count": 10,
     "metadata": {},
     "output_type": "execute_result"
    }
   ],
   "source": [
    "population.head()"
   ]
  },
  {
   "cell_type": "code",
   "execution_count": 7,
   "metadata": {},
   "outputs": [],
   "source": [
    "geo_info = pd.read_csv('name_geographic_information.csv', sep=',', low_memory=False, encoding = 'UTF-8')"
   ]
  },
  {
   "cell_type": "code",
   "execution_count": 8,
   "metadata": {},
   "outputs": [
    {
     "data": {
      "text/html": [
       "<div>\n",
       "<style>\n",
       "    .dataframe thead tr:only-child th {\n",
       "        text-align: right;\n",
       "    }\n",
       "\n",
       "    .dataframe thead th {\n",
       "        text-align: left;\n",
       "    }\n",
       "\n",
       "    .dataframe tbody tr th {\n",
       "        vertical-align: top;\n",
       "    }\n",
       "</style>\n",
       "<table border=\"1\" class=\"dataframe\">\n",
       "  <thead>\n",
       "    <tr style=\"text-align: right;\">\n",
       "      <th></th>\n",
       "      <th>EU_circo</th>\n",
       "      <th>code_région</th>\n",
       "      <th>nom_région</th>\n",
       "      <th>chef.lieu_région</th>\n",
       "      <th>numéro_département</th>\n",
       "      <th>nom_département</th>\n",
       "      <th>préfecture</th>\n",
       "      <th>numéro_circonscription</th>\n",
       "      <th>nom_commune</th>\n",
       "      <th>codes_postaux</th>\n",
       "      <th>code_insee</th>\n",
       "      <th>latitude</th>\n",
       "      <th>longitude</th>\n",
       "      <th>éloignement</th>\n",
       "    </tr>\n",
       "  </thead>\n",
       "  <tbody>\n",
       "    <tr>\n",
       "      <th>0</th>\n",
       "      <td>Sud-Est</td>\n",
       "      <td>82</td>\n",
       "      <td>Rhône-Alpes</td>\n",
       "      <td>Lyon</td>\n",
       "      <td>01</td>\n",
       "      <td>Ain</td>\n",
       "      <td>Bourg-en-Bresse</td>\n",
       "      <td>1</td>\n",
       "      <td>Attignat</td>\n",
       "      <td>01340</td>\n",
       "      <td>1024</td>\n",
       "      <td>46.283333</td>\n",
       "      <td>5.166667</td>\n",
       "      <td>1.21</td>\n",
       "    </tr>\n",
       "    <tr>\n",
       "      <th>1</th>\n",
       "      <td>Sud-Est</td>\n",
       "      <td>82</td>\n",
       "      <td>Rhône-Alpes</td>\n",
       "      <td>Lyon</td>\n",
       "      <td>01</td>\n",
       "      <td>Ain</td>\n",
       "      <td>Bourg-en-Bresse</td>\n",
       "      <td>1</td>\n",
       "      <td>Beaupont</td>\n",
       "      <td>01270</td>\n",
       "      <td>1029</td>\n",
       "      <td>46.400000</td>\n",
       "      <td>5.266667</td>\n",
       "      <td>1.91</td>\n",
       "    </tr>\n",
       "    <tr>\n",
       "      <th>2</th>\n",
       "      <td>Sud-Est</td>\n",
       "      <td>82</td>\n",
       "      <td>Rhône-Alpes</td>\n",
       "      <td>Lyon</td>\n",
       "      <td>01</td>\n",
       "      <td>Ain</td>\n",
       "      <td>Bourg-en-Bresse</td>\n",
       "      <td>1</td>\n",
       "      <td>Bény</td>\n",
       "      <td>01370</td>\n",
       "      <td>1038</td>\n",
       "      <td>46.333333</td>\n",
       "      <td>5.283333</td>\n",
       "      <td>1.51</td>\n",
       "    </tr>\n",
       "    <tr>\n",
       "      <th>3</th>\n",
       "      <td>Sud-Est</td>\n",
       "      <td>82</td>\n",
       "      <td>Rhône-Alpes</td>\n",
       "      <td>Lyon</td>\n",
       "      <td>01</td>\n",
       "      <td>Ain</td>\n",
       "      <td>Bourg-en-Bresse</td>\n",
       "      <td>1</td>\n",
       "      <td>Béreyziat</td>\n",
       "      <td>01340</td>\n",
       "      <td>1040</td>\n",
       "      <td>46.366667</td>\n",
       "      <td>5.05</td>\n",
       "      <td>1.71</td>\n",
       "    </tr>\n",
       "    <tr>\n",
       "      <th>4</th>\n",
       "      <td>Sud-Est</td>\n",
       "      <td>82</td>\n",
       "      <td>Rhône-Alpes</td>\n",
       "      <td>Lyon</td>\n",
       "      <td>01</td>\n",
       "      <td>Ain</td>\n",
       "      <td>Bourg-en-Bresse</td>\n",
       "      <td>1</td>\n",
       "      <td>Bohas-Meyriat-Rignat</td>\n",
       "      <td>01250</td>\n",
       "      <td>1245</td>\n",
       "      <td>46.133333</td>\n",
       "      <td>5.4</td>\n",
       "      <td>1.01</td>\n",
       "    </tr>\n",
       "  </tbody>\n",
       "</table>\n",
       "</div>"
      ],
      "text/plain": [
       "  EU_circo  code_région   nom_région chef.lieu_région numéro_département  \\\n",
       "0  Sud-Est           82  Rhône-Alpes             Lyon                 01   \n",
       "1  Sud-Est           82  Rhône-Alpes             Lyon                 01   \n",
       "2  Sud-Est           82  Rhône-Alpes             Lyon                 01   \n",
       "3  Sud-Est           82  Rhône-Alpes             Lyon                 01   \n",
       "4  Sud-Est           82  Rhône-Alpes             Lyon                 01   \n",
       "\n",
       "  nom_département       préfecture  numéro_circonscription  \\\n",
       "0             Ain  Bourg-en-Bresse                       1   \n",
       "1             Ain  Bourg-en-Bresse                       1   \n",
       "2             Ain  Bourg-en-Bresse                       1   \n",
       "3             Ain  Bourg-en-Bresse                       1   \n",
       "4             Ain  Bourg-en-Bresse                       1   \n",
       "\n",
       "            nom_commune codes_postaux  code_insee   latitude longitude  \\\n",
       "0              Attignat         01340        1024  46.283333  5.166667   \n",
       "1              Beaupont         01270        1029  46.400000  5.266667   \n",
       "2                  Bény         01370        1038  46.333333  5.283333   \n",
       "3             Béreyziat         01340        1040  46.366667      5.05   \n",
       "4  Bohas-Meyriat-Rignat         01250        1245  46.133333       5.4   \n",
       "\n",
       "   éloignement  \n",
       "0         1.21  \n",
       "1         1.91  \n",
       "2         1.51  \n",
       "3         1.71  \n",
       "4         1.01  "
      ]
     },
     "execution_count": 8,
     "metadata": {},
     "output_type": "execute_result"
    }
   ],
   "source": [
    "geo_info.head()"
   ]
  },
  {
   "cell_type": "markdown",
   "metadata": {},
   "source": [
    "### Preprocessing"
   ]
  },
  {
   "cell_type": "code",
   "execution_count": 11,
   "metadata": {
    "collapsed": true
   },
   "outputs": [],
   "source": [
    "# sum all population from the same city (in the xls file they were separated by hood in the city)\n",
    "pop_sum=population.groupby(['COM','LIBCOM'],as_index=False).sum()"
   ]
  },
  {
   "cell_type": "code",
   "execution_count": 12,
   "metadata": {
    "collapsed": true
   },
   "outputs": [],
   "source": [
    "# join salaries and population\n",
    "test_merge1=salaries.merge(pop_sum[['COM','P14_POP']], left_on='CODGEO', right_on='COM', how='left')"
   ]
  },
  {
   "cell_type": "code",
   "execution_count": 14,
   "metadata": {
    "collapsed": true
   },
   "outputs": [],
   "source": [
    "# find all the cities which have not found their population\n",
    "test_merge_null=test_merge1[test_merge1['COM'].isnull()]\n",
    "list_cities=test_merge_null['LIBGEO'].tolist()"
   ]
  },
  {
   "cell_type": "code",
   "execution_count": 32,
   "metadata": {},
   "outputs": [
    {
     "data": {
      "text/html": [
       "<div>\n",
       "<style>\n",
       "    .dataframe thead tr:only-child th {\n",
       "        text-align: right;\n",
       "    }\n",
       "\n",
       "    .dataframe thead th {\n",
       "        text-align: left;\n",
       "    }\n",
       "\n",
       "    .dataframe tbody tr th {\n",
       "        vertical-align: top;\n",
       "    }\n",
       "</style>\n",
       "<table border=\"1\" class=\"dataframe\">\n",
       "  <thead>\n",
       "    <tr style=\"text-align: right;\">\n",
       "      <th></th>\n",
       "      <th>CODGEO</th>\n",
       "      <th>LIBGEO</th>\n",
       "      <th>SNHM14</th>\n",
       "      <th>SNHMC14</th>\n",
       "      <th>SNHMP14</th>\n",
       "      <th>SNHME14</th>\n",
       "      <th>SNHMO14</th>\n",
       "      <th>SNHMF14</th>\n",
       "      <th>SNHMFC14</th>\n",
       "      <th>SNHMFP14</th>\n",
       "      <th>...</th>\n",
       "      <th>SNHM2614</th>\n",
       "      <th>SNHM5014</th>\n",
       "      <th>SNHMF1814</th>\n",
       "      <th>SNHMF2614</th>\n",
       "      <th>SNHMF5014</th>\n",
       "      <th>SNHMH1814</th>\n",
       "      <th>SNHMH2614</th>\n",
       "      <th>SNHMH5014</th>\n",
       "      <th>COM</th>\n",
       "      <th>P14_POP</th>\n",
       "    </tr>\n",
       "  </thead>\n",
       "  <tbody>\n",
       "    <tr>\n",
       "      <th>0</th>\n",
       "      <td>01004</td>\n",
       "      <td>Ambérieu-en-Bugey</td>\n",
       "      <td>13,7</td>\n",
       "      <td>24,2</td>\n",
       "      <td>15,5</td>\n",
       "      <td>10,3</td>\n",
       "      <td>11,2</td>\n",
       "      <td>11,6</td>\n",
       "      <td>19,1</td>\n",
       "      <td>13,2</td>\n",
       "      <td>...</td>\n",
       "      <td>13,7</td>\n",
       "      <td>16,1</td>\n",
       "      <td>9,7</td>\n",
       "      <td>11,8</td>\n",
       "      <td>12,5</td>\n",
       "      <td>11,0</td>\n",
       "      <td>14,9</td>\n",
       "      <td>18,6</td>\n",
       "      <td>01004</td>\n",
       "      <td>14021.0</td>\n",
       "    </tr>\n",
       "    <tr>\n",
       "      <th>1</th>\n",
       "      <td>01007</td>\n",
       "      <td>Ambronay</td>\n",
       "      <td>13,5</td>\n",
       "      <td>22,1</td>\n",
       "      <td>14,7</td>\n",
       "      <td>10,7</td>\n",
       "      <td>11,4</td>\n",
       "      <td>11,9</td>\n",
       "      <td>19,0</td>\n",
       "      <td>13,3</td>\n",
       "      <td>...</td>\n",
       "      <td>13,8</td>\n",
       "      <td>14,6</td>\n",
       "      <td>9,2</td>\n",
       "      <td>12,2</td>\n",
       "      <td>12,5</td>\n",
       "      <td>10,2</td>\n",
       "      <td>14,9</td>\n",
       "      <td>16,4</td>\n",
       "      <td>01007</td>\n",
       "      <td>2570.0</td>\n",
       "    </tr>\n",
       "    <tr>\n",
       "      <th>2</th>\n",
       "      <td>01014</td>\n",
       "      <td>Arbent</td>\n",
       "      <td>13,5</td>\n",
       "      <td>27,6</td>\n",
       "      <td>15,6</td>\n",
       "      <td>11,1</td>\n",
       "      <td>11,1</td>\n",
       "      <td>10,9</td>\n",
       "      <td>19,5</td>\n",
       "      <td>11,7</td>\n",
       "      <td>...</td>\n",
       "      <td>13,3</td>\n",
       "      <td>16,0</td>\n",
       "      <td>8,9</td>\n",
       "      <td>10,6</td>\n",
       "      <td>12,5</td>\n",
       "      <td>9,6</td>\n",
       "      <td>15,1</td>\n",
       "      <td>18,6</td>\n",
       "      <td>01014</td>\n",
       "      <td>3405.0</td>\n",
       "    </tr>\n",
       "    <tr>\n",
       "      <th>3</th>\n",
       "      <td>01024</td>\n",
       "      <td>Attignat</td>\n",
       "      <td>12,9</td>\n",
       "      <td>21,8</td>\n",
       "      <td>14,1</td>\n",
       "      <td>11,0</td>\n",
       "      <td>11,3</td>\n",
       "      <td>11,4</td>\n",
       "      <td>19,0</td>\n",
       "      <td>13,0</td>\n",
       "      <td>...</td>\n",
       "      <td>12,9</td>\n",
       "      <td>14,2</td>\n",
       "      <td>9,3</td>\n",
       "      <td>11,4</td>\n",
       "      <td>12,2</td>\n",
       "      <td>9,7</td>\n",
       "      <td>13,8</td>\n",
       "      <td>15,9</td>\n",
       "      <td>01024</td>\n",
       "      <td>3386.0</td>\n",
       "    </tr>\n",
       "    <tr>\n",
       "      <th>4</th>\n",
       "      <td>01025</td>\n",
       "      <td>Bâgé-la-Ville</td>\n",
       "      <td>13,0</td>\n",
       "      <td>22,8</td>\n",
       "      <td>14,1</td>\n",
       "      <td>10,5</td>\n",
       "      <td>11,1</td>\n",
       "      <td>11,6</td>\n",
       "      <td>19,4</td>\n",
       "      <td>13,6</td>\n",
       "      <td>...</td>\n",
       "      <td>12,8</td>\n",
       "      <td>15,2</td>\n",
       "      <td>9,0</td>\n",
       "      <td>11,8</td>\n",
       "      <td>12,3</td>\n",
       "      <td>9,7</td>\n",
       "      <td>13,4</td>\n",
       "      <td>16,9</td>\n",
       "      <td>01025</td>\n",
       "      <td>3177.0</td>\n",
       "    </tr>\n",
       "  </tbody>\n",
       "</table>\n",
       "<p>5 rows × 28 columns</p>\n",
       "</div>"
      ],
      "text/plain": [
       "  CODGEO             LIBGEO SNHM14 SNHMC14 SNHMP14 SNHME14 SNHMO14 SNHMF14  \\\n",
       "0  01004  Ambérieu-en-Bugey   13,7    24,2    15,5    10,3    11,2    11,6   \n",
       "1  01007           Ambronay   13,5    22,1    14,7    10,7    11,4    11,9   \n",
       "2  01014             Arbent   13,5    27,6    15,6    11,1    11,1    10,9   \n",
       "3  01024           Attignat   12,9    21,8    14,1    11,0    11,3    11,4   \n",
       "4  01025      Bâgé-la-Ville   13,0    22,8    14,1    10,5    11,1    11,6   \n",
       "\n",
       "  SNHMFC14 SNHMFP14   ...    SNHM2614 SNHM5014 SNHMF1814 SNHMF2614 SNHMF5014  \\\n",
       "0     19,1     13,2   ...        13,7     16,1       9,7      11,8      12,5   \n",
       "1     19,0     13,3   ...        13,8     14,6       9,2      12,2      12,5   \n",
       "2     19,5     11,7   ...        13,3     16,0       8,9      10,6      12,5   \n",
       "3     19,0     13,0   ...        12,9     14,2       9,3      11,4      12,2   \n",
       "4     19,4     13,6   ...        12,8     15,2       9,0      11,8      12,3   \n",
       "\n",
       "  SNHMH1814 SNHMH2614 SNHMH5014    COM  P14_POP  \n",
       "0      11,0      14,9      18,6  01004  14021.0  \n",
       "1      10,2      14,9      16,4  01007   2570.0  \n",
       "2       9,6      15,1      18,6  01014   3405.0  \n",
       "3       9,7      13,8      15,9  01024   3386.0  \n",
       "4       9,7      13,4      16,9  01025   3177.0  \n",
       "\n",
       "[5 rows x 28 columns]"
      ]
     },
     "execution_count": 32,
     "metadata": {},
     "output_type": "execute_result"
    }
   ],
   "source": [
    "test_merge1.head()"
   ]
  },
  {
   "cell_type": "code",
   "execution_count": 15,
   "metadata": {},
   "outputs": [
    {
     "data": {
      "text/plain": [
       "['Marseille',\n",
       " 'Guipry',\n",
       " 'Chéméré',\n",
       " 'Andard',\n",
       " \"Brain-sur-l'Authion\",\n",
       " 'Corné',\n",
       " 'Drain',\n",
       " 'Gesté',\n",
       " 'Valanjou',\n",
       " 'Jallais',\n",
       " 'Liré',\n",
       " 'Le Longeron',\n",
       " 'La Meignanne',\n",
       " 'Montfaucon-Montigné',\n",
       " 'Montjean-sur-Loire',\n",
       " 'Pellouailles-les-Vignes',\n",
       " 'Saint-André-de-la-Marche',\n",
       " 'Saint-Florent-le-Vieil',\n",
       " 'Saint-Germain-sur-Moine',\n",
       " 'Saint-Laurent-des-Autels',\n",
       " 'Saint-Pierre-Montlimart',\n",
       " 'Torfou',\n",
       " 'Villedieu-la-Blouère',\n",
       " 'Équeurdreville-Hainneville',\n",
       " 'La Glacerie',\n",
       " 'Querqueville',\n",
       " 'Tourlaville',\n",
       " 'Lyon',\n",
       " 'Metz-Tessy',\n",
       " 'Paris',\n",
       " 'Les Clouzeaux',\n",
       " 'Saint-Michel-Mont-Mercure']"
      ]
     },
     "execution_count": 15,
     "metadata": {},
     "output_type": "execute_result"
    }
   ],
   "source": [
    "list_cities"
   ]
  },
  {
   "cell_type": "markdown",
   "metadata": {},
   "source": [
    "We see that we have a lot of cities to fix but I will first focus on the big cities which are Paris, Marseille and Lyon (that's normal they don't succeed during the merge because they are separated into several districts)"
   ]
  },
  {
   "cell_type": "code",
   "execution_count": 34,
   "metadata": {},
   "outputs": [],
   "source": [
    "lyon=pop_sum['P14_POP'][pop_sum.LIBCOM.str.match('Lyon (.*) Arrondissement')].sum()\n",
    "test_merge1.at[np.where(test_merge1['LIBGEO'] == 'Lyon')[0],'P14_POP']=lyon"
   ]
  },
  {
   "cell_type": "code",
   "execution_count": 35,
   "metadata": {
    "collapsed": true
   },
   "outputs": [],
   "source": [
    "paris=pop_sum['P14_POP'][pop_sum.LIBCOM.str.match('Paris (.*) Arrondissement')].sum()\n",
    "test_merge1.at[np.where(test_merge1['LIBGEO'] == 'Paris')[0],'P14_POP']=paris"
   ]
  },
  {
   "cell_type": "code",
   "execution_count": 36,
   "metadata": {
    "collapsed": true
   },
   "outputs": [],
   "source": [
    "marseille=pop_sum['P14_POP'][pop_sum.LIBCOM.str.match('Marseille (.*) Arrondissement')].sum()\n",
    "test_merge1.at[np.where(test_merge1['LIBGEO'] == 'Marseille')[0],'P14_POP']=marseille"
   ]
  },
  {
   "cell_type": "code",
   "execution_count": 39,
   "metadata": {
    "collapsed": true
   },
   "outputs": [],
   "source": [
    "metz=pop_sum['P14_POP'][pop_sum.LIBCOM.str.contains('Metz-Tessy', case=False, regex=False)].sum()\n",
    "test_merge1.at[np.where(test_merge1['LIBGEO'] == 'Metz-Tessy')[0],'P14_POP']=metz"
   ]
  },
  {
   "cell_type": "markdown",
   "metadata": {},
   "source": [
    "I will now try to complete the rest of the cities"
   ]
  },
  {
   "cell_type": "code",
   "execution_count": 24,
   "metadata": {
    "collapsed": true
   },
   "outputs": [],
   "source": [
    "for cities in test_merge1['LIBGEO'][test_merge1['P14_POP'].isnull()].tolist():\n",
    "    test_merge1.at[np.where(test_merge1['LIBGEO'] == str(cities))[0][0],'P14_POP']=pop_sum['P14_POP'][pop_sum.LIBCOM.str.contains(str(cities), case=False, regex=False)].sum()"
   ]
  },
  {
   "cell_type": "markdown",
   "metadata": {},
   "source": [
    "I drop the cities which have less than 1 inhabitants (if there is some?) because it would be an error"
   ]
  },
  {
   "cell_type": "code",
   "execution_count": 158,
   "metadata": {
    "collapsed": true
   },
   "outputs": [],
   "source": [
    "test_merge1.drop(test_merge1[test_merge1.P14_POP < 1].index, inplace=True)"
   ]
  },
  {
   "cell_type": "code",
   "execution_count": 159,
   "metadata": {
    "collapsed": true
   },
   "outputs": [],
   "source": [
    "# we don't care anymor of this column\n",
    "test_merge1.drop(['COM'],axis=1,inplace=True)"
   ]
  },
  {
   "cell_type": "markdown",
   "metadata": {},
   "source": [
    "We now need to convert all column to numeric"
   ]
  },
  {
   "cell_type": "code",
   "execution_count": 160,
   "metadata": {
    "collapsed": true
   },
   "outputs": [],
   "source": [
    "test_merge1[['SNHM14','SNHMC14','SNHMP14','SNHME14','SNHMO14','SNHMF14','SNHMFC14','SNHMFP14','SNHMFE14','SNHMFO14','SNHMH14','SNHMHC14','SNHMHP14','SNHMHE14','SNHMHO14','SNHM1814','SNHM2614','SNHM5014','SNHMF1814','SNHMF2614','SNHMF5014','SNHMH1814','SNHMH2614','SNHMH5014']]=test_merge1[['SNHM14','SNHMC14','SNHMP14','SNHME14','SNHMO14','SNHMF14','SNHMFC14','SNHMFP14','SNHMFE14','SNHMFO14','SNHMH14','SNHMHC14','SNHMHP14','SNHMHE14','SNHMHO14','SNHM1814','SNHM2614','SNHM5014','SNHMF1814','SNHMF2614','SNHMF5014','SNHMH1814','SNHMH2614','SNHMH5014']].apply(lambda x: x.str.replace(',','.'))"
   ]
  },
  {
   "cell_type": "code",
   "execution_count": 161,
   "metadata": {},
   "outputs": [
    {
     "data": {
      "text/html": [
       "<div>\n",
       "<style>\n",
       "    .dataframe thead tr:only-child th {\n",
       "        text-align: right;\n",
       "    }\n",
       "\n",
       "    .dataframe thead th {\n",
       "        text-align: left;\n",
       "    }\n",
       "\n",
       "    .dataframe tbody tr th {\n",
       "        vertical-align: top;\n",
       "    }\n",
       "</style>\n",
       "<table border=\"1\" class=\"dataframe\">\n",
       "  <thead>\n",
       "    <tr style=\"text-align: right;\">\n",
       "      <th></th>\n",
       "      <th>CODGEO</th>\n",
       "      <th>LIBGEO</th>\n",
       "      <th>SNHM14</th>\n",
       "      <th>SNHMC14</th>\n",
       "      <th>SNHMP14</th>\n",
       "      <th>SNHME14</th>\n",
       "      <th>SNHMO14</th>\n",
       "      <th>SNHMF14</th>\n",
       "      <th>SNHMFC14</th>\n",
       "      <th>SNHMFP14</th>\n",
       "      <th>...</th>\n",
       "      <th>SNHM1814</th>\n",
       "      <th>SNHM2614</th>\n",
       "      <th>SNHM5014</th>\n",
       "      <th>SNHMF1814</th>\n",
       "      <th>SNHMF2614</th>\n",
       "      <th>SNHMF5014</th>\n",
       "      <th>SNHMH1814</th>\n",
       "      <th>SNHMH2614</th>\n",
       "      <th>SNHMH5014</th>\n",
       "      <th>P14_POP</th>\n",
       "    </tr>\n",
       "  </thead>\n",
       "  <tbody>\n",
       "    <tr>\n",
       "      <th>0</th>\n",
       "      <td>01004</td>\n",
       "      <td>Ambérieu-en-Bugey</td>\n",
       "      <td>13.7</td>\n",
       "      <td>24.2</td>\n",
       "      <td>15.5</td>\n",
       "      <td>10.3</td>\n",
       "      <td>11.2</td>\n",
       "      <td>11.6</td>\n",
       "      <td>19.1</td>\n",
       "      <td>13.2</td>\n",
       "      <td>...</td>\n",
       "      <td>10.5</td>\n",
       "      <td>13.7</td>\n",
       "      <td>16.1</td>\n",
       "      <td>9.7</td>\n",
       "      <td>11.8</td>\n",
       "      <td>12.5</td>\n",
       "      <td>11.0</td>\n",
       "      <td>14.9</td>\n",
       "      <td>18.6</td>\n",
       "      <td>14021.0</td>\n",
       "    </tr>\n",
       "    <tr>\n",
       "      <th>1</th>\n",
       "      <td>01007</td>\n",
       "      <td>Ambronay</td>\n",
       "      <td>13.5</td>\n",
       "      <td>22.1</td>\n",
       "      <td>14.7</td>\n",
       "      <td>10.7</td>\n",
       "      <td>11.4</td>\n",
       "      <td>11.9</td>\n",
       "      <td>19.0</td>\n",
       "      <td>13.3</td>\n",
       "      <td>...</td>\n",
       "      <td>9.8</td>\n",
       "      <td>13.8</td>\n",
       "      <td>14.6</td>\n",
       "      <td>9.2</td>\n",
       "      <td>12.2</td>\n",
       "      <td>12.5</td>\n",
       "      <td>10.2</td>\n",
       "      <td>14.9</td>\n",
       "      <td>16.4</td>\n",
       "      <td>2570.0</td>\n",
       "    </tr>\n",
       "    <tr>\n",
       "      <th>2</th>\n",
       "      <td>01014</td>\n",
       "      <td>Arbent</td>\n",
       "      <td>13.5</td>\n",
       "      <td>27.6</td>\n",
       "      <td>15.6</td>\n",
       "      <td>11.1</td>\n",
       "      <td>11.1</td>\n",
       "      <td>10.9</td>\n",
       "      <td>19.5</td>\n",
       "      <td>11.7</td>\n",
       "      <td>...</td>\n",
       "      <td>9.3</td>\n",
       "      <td>13.3</td>\n",
       "      <td>16.0</td>\n",
       "      <td>8.9</td>\n",
       "      <td>10.6</td>\n",
       "      <td>12.5</td>\n",
       "      <td>9.6</td>\n",
       "      <td>15.1</td>\n",
       "      <td>18.6</td>\n",
       "      <td>3405.0</td>\n",
       "    </tr>\n",
       "    <tr>\n",
       "      <th>3</th>\n",
       "      <td>01024</td>\n",
       "      <td>Attignat</td>\n",
       "      <td>12.9</td>\n",
       "      <td>21.8</td>\n",
       "      <td>14.1</td>\n",
       "      <td>11.0</td>\n",
       "      <td>11.3</td>\n",
       "      <td>11.4</td>\n",
       "      <td>19.0</td>\n",
       "      <td>13.0</td>\n",
       "      <td>...</td>\n",
       "      <td>9.6</td>\n",
       "      <td>12.9</td>\n",
       "      <td>14.2</td>\n",
       "      <td>9.3</td>\n",
       "      <td>11.4</td>\n",
       "      <td>12.2</td>\n",
       "      <td>9.7</td>\n",
       "      <td>13.8</td>\n",
       "      <td>15.9</td>\n",
       "      <td>3386.0</td>\n",
       "    </tr>\n",
       "    <tr>\n",
       "      <th>4</th>\n",
       "      <td>01025</td>\n",
       "      <td>Bâgé-la-Ville</td>\n",
       "      <td>13.0</td>\n",
       "      <td>22.8</td>\n",
       "      <td>14.1</td>\n",
       "      <td>10.5</td>\n",
       "      <td>11.1</td>\n",
       "      <td>11.6</td>\n",
       "      <td>19.4</td>\n",
       "      <td>13.6</td>\n",
       "      <td>...</td>\n",
       "      <td>9.4</td>\n",
       "      <td>12.8</td>\n",
       "      <td>15.2</td>\n",
       "      <td>9.0</td>\n",
       "      <td>11.8</td>\n",
       "      <td>12.3</td>\n",
       "      <td>9.7</td>\n",
       "      <td>13.4</td>\n",
       "      <td>16.9</td>\n",
       "      <td>3177.0</td>\n",
       "    </tr>\n",
       "  </tbody>\n",
       "</table>\n",
       "<p>5 rows × 27 columns</p>\n",
       "</div>"
      ],
      "text/plain": [
       "  CODGEO             LIBGEO SNHM14 SNHMC14 SNHMP14 SNHME14 SNHMO14 SNHMF14  \\\n",
       "0  01004  Ambérieu-en-Bugey   13.7    24.2    15.5    10.3    11.2    11.6   \n",
       "1  01007           Ambronay   13.5    22.1    14.7    10.7    11.4    11.9   \n",
       "2  01014             Arbent   13.5    27.6    15.6    11.1    11.1    10.9   \n",
       "3  01024           Attignat   12.9    21.8    14.1    11.0    11.3    11.4   \n",
       "4  01025      Bâgé-la-Ville   13.0    22.8    14.1    10.5    11.1    11.6   \n",
       "\n",
       "  SNHMFC14 SNHMFP14   ...    SNHM1814 SNHM2614 SNHM5014 SNHMF1814 SNHMF2614  \\\n",
       "0     19.1     13.2   ...        10.5     13.7     16.1       9.7      11.8   \n",
       "1     19.0     13.3   ...         9.8     13.8     14.6       9.2      12.2   \n",
       "2     19.5     11.7   ...         9.3     13.3     16.0       8.9      10.6   \n",
       "3     19.0     13.0   ...         9.6     12.9     14.2       9.3      11.4   \n",
       "4     19.4     13.6   ...         9.4     12.8     15.2       9.0      11.8   \n",
       "\n",
       "  SNHMF5014 SNHMH1814 SNHMH2614 SNHMH5014  P14_POP  \n",
       "0      12.5      11.0      14.9      18.6  14021.0  \n",
       "1      12.5      10.2      14.9      16.4   2570.0  \n",
       "2      12.5       9.6      15.1      18.6   3405.0  \n",
       "3      12.2       9.7      13.8      15.9   3386.0  \n",
       "4      12.3       9.7      13.4      16.9   3177.0  \n",
       "\n",
       "[5 rows x 27 columns]"
      ]
     },
     "execution_count": 161,
     "metadata": {},
     "output_type": "execute_result"
    }
   ],
   "source": [
    "test_merge1.head()"
   ]
  },
  {
   "cell_type": "code",
   "execution_count": 162,
   "metadata": {
    "collapsed": true
   },
   "outputs": [],
   "source": [
    "cols=['SNHM14','SNHMC14','SNHMP14','SNHME14','SNHMO14','SNHMF14','SNHMFC14','SNHMFP14','SNHMFE14','SNHMFO14','SNHMH14','SNHMHC14','SNHMHP14','SNHMHE14','SNHMHO14','SNHM1814','SNHM2614','SNHM5014','SNHMF1814','SNHMF2614','SNHMF5014','SNHMH1814','SNHMH2614','SNHMH5014']\n",
    "\n",
    "for col in cols:\n",
    "    test_merge1[col]=pd.to_numeric(test_merge1[col])"
   ]
  },
  {
   "cell_type": "code",
   "execution_count": 163,
   "metadata": {
    "collapsed": true
   },
   "outputs": [],
   "source": [
    "test_merge1.reset_index(drop=True, inplace=True)"
   ]
  },
  {
   "cell_type": "markdown",
   "metadata": {},
   "source": [
    "In order to join with the latitude and longitude there is some work to do. For exemple in the geographic inofrmation file the code_insee(same as CODGEO) on which we can merge is in int. So I have to convert to in my other file. The matter is that in Corsica Region the CODGEO is an object in which there is an A and B between the numers. But I saw that on the other file this is replaced by a 0 (otherwise I could'nt convert to integer)"
   ]
  },
  {
   "cell_type": "code",
   "execution_count": 184,
   "metadata": {
    "collapsed": true
   },
   "outputs": [],
   "source": [
    "test_merge1['CODGEO']=test_merge1['CODGEO'].apply(lambda x: x.replace('A','0'))"
   ]
  },
  {
   "cell_type": "code",
   "execution_count": 185,
   "metadata": {
    "collapsed": true
   },
   "outputs": [],
   "source": [
    "test_merge1['CODGEO']=test_merge1['CODGEO'].apply(lambda x: x.replace('B','0'))"
   ]
  },
  {
   "cell_type": "code",
   "execution_count": 186,
   "metadata": {
    "collapsed": true
   },
   "outputs": [],
   "source": [
    "test_merge1['CODGEO']=pd.to_numeric(test_merge1['CODGEO'],errors='raise')"
   ]
  },
  {
   "cell_type": "code",
   "execution_count": 204,
   "metadata": {
    "collapsed": true
   },
   "outputs": [],
   "source": [
    "test_merge2=test_merge1.merge(geo_info[['code_insee','latitude','longitude']],left_on='CODGEO',right_on='code_insee',how='inner')"
   ]
  },
  {
   "cell_type": "markdown",
   "metadata": {},
   "source": [
    "I drop all French overseas regions because I can't show them in my visualisation"
   ]
  },
  {
   "cell_type": "code",
   "execution_count": 211,
   "metadata": {
    "collapsed": true
   },
   "outputs": [],
   "source": [
    "test_merge2.drop(test_merge2[test_merge2.CODGEO >95999 ].index, inplace=True)"
   ]
  },
  {
   "cell_type": "code",
   "execution_count": 218,
   "metadata": {
    "collapsed": true
   },
   "outputs": [],
   "source": [
    "#I drop where the latitude is null because it will raise an error\n",
    "test_merge2.dropna(axis=0,inplace=True,subset=['latitude'])"
   ]
  },
  {
   "cell_type": "code",
   "execution_count": 220,
   "metadata": {
    "collapsed": true
   },
   "outputs": [],
   "source": [
    "#i don't need anymore the code_insee\n",
    "test_merge2.drop(['code_insee'],axis=1,inplace=True)"
   ]
  },
  {
   "cell_type": "code",
   "execution_count": 228,
   "metadata": {
    "collapsed": true
   },
   "outputs": [],
   "source": [
    "#drop duplicates\n",
    "test_merge2.drop_duplicates(subset=['CODGEO'], inplace=True)"
   ]
  },
  {
   "cell_type": "code",
   "execution_count": 233,
   "metadata": {
    "collapsed": true
   },
   "outputs": [],
   "source": [
    "#convert all column name to lower case\n",
    "test_merge2.columns = [x.lower() for x in test_merge2.columns]"
   ]
  },
  {
   "cell_type": "markdown",
   "metadata": {},
   "source": [
    "### Exportation of the final CSV file"
   ]
  },
  {
   "cell_type": "code",
   "execution_count": null,
   "metadata": {
    "collapsed": true
   },
   "outputs": [],
   "source": [
    "test_merge2.to_csv('salaries_population.csv', sep=',',encoding='utf-8',index=False)"
   ]
  }
 ],
 "metadata": {
  "kernelspec": {
   "display_name": "Python 3",
   "language": "python",
   "name": "python3"
  },
  "language_info": {
   "codemirror_mode": {
    "name": "ipython",
    "version": 3
   },
   "file_extension": ".py",
   "mimetype": "text/x-python",
   "name": "python",
   "nbconvert_exporter": "python",
   "pygments_lexer": "ipython3",
   "version": "3.6.1"
  }
 },
 "nbformat": 4,
 "nbformat_minor": 2
}
